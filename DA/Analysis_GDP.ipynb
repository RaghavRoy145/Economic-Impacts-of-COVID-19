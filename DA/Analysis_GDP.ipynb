{
 "cells": [
  {
   "cell_type": "code",
   "execution_count": 97,
   "metadata": {},
   "outputs": [],
   "source": [
    "import pandas as pd\n",
    "from pylab import rcParams"
   ]
  },
  {
   "cell_type": "code",
   "execution_count": 33,
   "metadata": {},
   "outputs": [],
   "source": [
    "import matplotlib.pyplot as plt"
   ]
  },
  {
   "cell_type": "code",
   "execution_count": 102,
   "metadata": {},
   "outputs": [],
   "source": [
    "df=pd.read_csv(\"final_data.csv\")"
   ]
  },
  {
   "cell_type": "code",
   "execution_count": 103,
   "metadata": {},
   "outputs": [
    {
     "name": "stdout",
     "output_type": "stream",
     "text": [
      "<class 'pandas.core.frame.DataFrame'>\n",
      "RangeIndex: 2248 entries, 0 to 2247\n",
      "Data columns (total 4 columns):\n",
      " #   Column      Non-Null Count  Dtype  \n",
      "---  ------      --------------  -----  \n",
      " 0   Unnamed: 0  2248 non-null   int64  \n",
      " 1   LOCATION    2248 non-null   object \n",
      " 2   TIME        2248 non-null   int64  \n",
      " 3   Value       2248 non-null   float64\n",
      "dtypes: float64(1), int64(2), object(1)\n",
      "memory usage: 70.4+ KB\n"
     ]
    }
   ],
   "source": [
    "df.info()"
   ]
  },
  {
   "cell_type": "code",
   "execution_count": 18,
   "metadata": {},
   "outputs": [],
   "source": [
    "df_usa=df[df['LOCATION']=='USA']"
   ]
  },
  {
   "cell_type": "code",
   "execution_count": 4,
   "metadata": {},
   "outputs": [],
   "source": [
    "df_india=df[df['LOCATION']=='IND']"
   ]
  },
  {
   "cell_type": "code",
   "execution_count": null,
   "metadata": {},
   "outputs": [],
   "source": []
  },
  {
   "cell_type": "code",
   "execution_count": 5,
   "metadata": {
    "scrolled": true
   },
   "outputs": [
    {
     "data": {
      "text/html": [
       "<div>\n",
       "<style scoped>\n",
       "    .dataframe tbody tr th:only-of-type {\n",
       "        vertical-align: middle;\n",
       "    }\n",
       "\n",
       "    .dataframe tbody tr th {\n",
       "        vertical-align: top;\n",
       "    }\n",
       "\n",
       "    .dataframe thead th {\n",
       "        text-align: right;\n",
       "    }\n",
       "</style>\n",
       "<table border=\"1\" class=\"dataframe\">\n",
       "  <thead>\n",
       "    <tr style=\"text-align: right;\">\n",
       "      <th></th>\n",
       "      <th>Unnamed: 0</th>\n",
       "      <th>LOCATION</th>\n",
       "      <th>TIME</th>\n",
       "      <th>Value</th>\n",
       "    </tr>\n",
       "  </thead>\n",
       "  <tbody>\n",
       "    <tr>\n",
       "      <th>989</th>\n",
       "      <td>8943</td>\n",
       "      <td>IND</td>\n",
       "      <td>1998</td>\n",
       "      <td>5.97895</td>\n",
       "    </tr>\n",
       "    <tr>\n",
       "      <th>990</th>\n",
       "      <td>8944</td>\n",
       "      <td>IND</td>\n",
       "      <td>1999</td>\n",
       "      <td>6.91594</td>\n",
       "    </tr>\n",
       "    <tr>\n",
       "      <th>991</th>\n",
       "      <td>8945</td>\n",
       "      <td>IND</td>\n",
       "      <td>2000</td>\n",
       "      <td>5.69272</td>\n",
       "    </tr>\n",
       "    <tr>\n",
       "      <th>992</th>\n",
       "      <td>8946</td>\n",
       "      <td>IND</td>\n",
       "      <td>2001</td>\n",
       "      <td>3.88491</td>\n",
       "    </tr>\n",
       "    <tr>\n",
       "      <th>993</th>\n",
       "      <td>8947</td>\n",
       "      <td>IND</td>\n",
       "      <td>2002</td>\n",
       "      <td>4.55821</td>\n",
       "    </tr>\n",
       "    <tr>\n",
       "      <th>994</th>\n",
       "      <td>8948</td>\n",
       "      <td>IND</td>\n",
       "      <td>2003</td>\n",
       "      <td>6.85180</td>\n",
       "    </tr>\n",
       "    <tr>\n",
       "      <th>995</th>\n",
       "      <td>8949</td>\n",
       "      <td>IND</td>\n",
       "      <td>2004</td>\n",
       "      <td>7.89701</td>\n",
       "    </tr>\n",
       "    <tr>\n",
       "      <th>996</th>\n",
       "      <td>8950</td>\n",
       "      <td>IND</td>\n",
       "      <td>2005</td>\n",
       "      <td>9.21089</td>\n",
       "    </tr>\n",
       "    <tr>\n",
       "      <th>997</th>\n",
       "      <td>8951</td>\n",
       "      <td>IND</td>\n",
       "      <td>2006</td>\n",
       "      <td>9.39265</td>\n",
       "    </tr>\n",
       "    <tr>\n",
       "      <th>998</th>\n",
       "      <td>8952</td>\n",
       "      <td>IND</td>\n",
       "      <td>2007</td>\n",
       "      <td>10.07771</td>\n",
       "    </tr>\n",
       "    <tr>\n",
       "      <th>999</th>\n",
       "      <td>8953</td>\n",
       "      <td>IND</td>\n",
       "      <td>2008</td>\n",
       "      <td>6.18689</td>\n",
       "    </tr>\n",
       "    <tr>\n",
       "      <th>1000</th>\n",
       "      <td>8954</td>\n",
       "      <td>IND</td>\n",
       "      <td>2009</td>\n",
       "      <td>5.03770</td>\n",
       "    </tr>\n",
       "    <tr>\n",
       "      <th>1001</th>\n",
       "      <td>8955</td>\n",
       "      <td>IND</td>\n",
       "      <td>2010</td>\n",
       "      <td>10.99734</td>\n",
       "    </tr>\n",
       "    <tr>\n",
       "      <th>1002</th>\n",
       "      <td>8956</td>\n",
       "      <td>IND</td>\n",
       "      <td>2011</td>\n",
       "      <td>7.87178</td>\n",
       "    </tr>\n",
       "    <tr>\n",
       "      <th>1003</th>\n",
       "      <td>8957</td>\n",
       "      <td>IND</td>\n",
       "      <td>2012</td>\n",
       "      <td>4.92565</td>\n",
       "    </tr>\n",
       "    <tr>\n",
       "      <th>1004</th>\n",
       "      <td>8958</td>\n",
       "      <td>IND</td>\n",
       "      <td>2013</td>\n",
       "      <td>6.12592</td>\n",
       "    </tr>\n",
       "    <tr>\n",
       "      <th>1005</th>\n",
       "      <td>8959</td>\n",
       "      <td>IND</td>\n",
       "      <td>2014</td>\n",
       "      <td>6.96291</td>\n",
       "    </tr>\n",
       "    <tr>\n",
       "      <th>1006</th>\n",
       "      <td>8960</td>\n",
       "      <td>IND</td>\n",
       "      <td>2015</td>\n",
       "      <td>7.48005</td>\n",
       "    </tr>\n",
       "    <tr>\n",
       "      <th>1007</th>\n",
       "      <td>8961</td>\n",
       "      <td>IND</td>\n",
       "      <td>2016</td>\n",
       "      <td>9.00210</td>\n",
       "    </tr>\n",
       "    <tr>\n",
       "      <th>1008</th>\n",
       "      <td>8962</td>\n",
       "      <td>IND</td>\n",
       "      <td>2017</td>\n",
       "      <td>6.55243</td>\n",
       "    </tr>\n",
       "    <tr>\n",
       "      <th>1009</th>\n",
       "      <td>8963</td>\n",
       "      <td>IND</td>\n",
       "      <td>2018</td>\n",
       "      <td>6.75610</td>\n",
       "    </tr>\n",
       "    <tr>\n",
       "      <th>1010</th>\n",
       "      <td>8964</td>\n",
       "      <td>IND</td>\n",
       "      <td>2019</td>\n",
       "      <td>4.85044</td>\n",
       "    </tr>\n",
       "  </tbody>\n",
       "</table>\n",
       "</div>"
      ],
      "text/plain": [
       "      Unnamed: 0 LOCATION  TIME     Value\n",
       "989         8943      IND  1998   5.97895\n",
       "990         8944      IND  1999   6.91594\n",
       "991         8945      IND  2000   5.69272\n",
       "992         8946      IND  2001   3.88491\n",
       "993         8947      IND  2002   4.55821\n",
       "994         8948      IND  2003   6.85180\n",
       "995         8949      IND  2004   7.89701\n",
       "996         8950      IND  2005   9.21089\n",
       "997         8951      IND  2006   9.39265\n",
       "998         8952      IND  2007  10.07771\n",
       "999         8953      IND  2008   6.18689\n",
       "1000        8954      IND  2009   5.03770\n",
       "1001        8955      IND  2010  10.99734\n",
       "1002        8956      IND  2011   7.87178\n",
       "1003        8957      IND  2012   4.92565\n",
       "1004        8958      IND  2013   6.12592\n",
       "1005        8959      IND  2014   6.96291\n",
       "1006        8960      IND  2015   7.48005\n",
       "1007        8961      IND  2016   9.00210\n",
       "1008        8962      IND  2017   6.55243\n",
       "1009        8963      IND  2018   6.75610\n",
       "1010        8964      IND  2019   4.85044"
      ]
     },
     "execution_count": 5,
     "metadata": {},
     "output_type": "execute_result"
    }
   ],
   "source": [
    "df_india"
   ]
  },
  {
   "cell_type": "code",
   "execution_count": 13,
   "metadata": {},
   "outputs": [
    {
     "data": {
      "text/plain": [
       "989       5.97895\n",
       "990      12.89489\n",
       "991      18.58761\n",
       "992      22.47252\n",
       "993      27.03073\n",
       "994      33.88253\n",
       "995      41.77954\n",
       "996      50.99043\n",
       "997      60.38308\n",
       "998      70.46079\n",
       "999      76.64768\n",
       "1000     81.68538\n",
       "1001     92.68272\n",
       "1002    100.55450\n",
       "1003    105.48015\n",
       "1004    111.60607\n",
       "1005    118.56898\n",
       "1006    126.04903\n",
       "1007    135.05113\n",
       "1008    141.60356\n",
       "1009    148.35966\n",
       "1010    153.21010\n",
       "Name: Value, dtype: float64"
      ]
     },
     "execution_count": 13,
     "metadata": {},
     "output_type": "execute_result"
    }
   ],
   "source": [
    "df_india['Value'].cumsum()"
   ]
  },
  {
   "cell_type": "code",
   "execution_count": 43,
   "metadata": {},
   "outputs": [
    {
     "data": {
      "text/plain": [
       "array(['OECD', 'EST', 'ESP', 'DNK', 'JPN', 'NOR', 'BEL', 'HUN', 'KOR',\n",
       "       'AUT', 'IDN', 'SVK', 'FIN', 'TUR', 'GRC', 'NZL', 'ARG', 'SVN',\n",
       "       'GBR', 'AUS', 'USA', 'IND', 'IRL', 'LVA', 'ZAF', 'CZE', 'DEU',\n",
       "       'POL', 'CHE', 'NLD', 'MEX', 'ISR', 'SAU', 'ISL', 'SWE', 'CHN',\n",
       "       'CAN', 'FRA', 'RUS', 'BRA', 'LUX', 'PRT', 'ITA', 'CHL', 'OECDE',\n",
       "       'G-7', 'G-20', 'COL', 'EA19', 'LTU', 'BGR', 'ROU', 'EU27_2020'],\n",
       "      dtype=object)"
      ]
     },
     "execution_count": 43,
     "metadata": {},
     "output_type": "execute_result"
    }
   ],
   "source": [
    "df['LOCATION'].unique()"
   ]
  },
  {
   "cell_type": "code",
   "execution_count": 50,
   "metadata": {},
   "outputs": [],
   "source": [
    "chosen_countries=['EU27_2020','IND','G-20','CHN','AUS','USA','RUS','CAN']"
   ]
  },
  {
   "cell_type": "code",
   "execution_count": 98,
   "metadata": {},
   "outputs": [],
   "source": [
    "rcParams['figure.figsize'] = 15,5"
   ]
  },
  {
   "cell_type": "code",
   "execution_count": 100,
   "metadata": {
    "scrolled": false
   },
   "outputs": [
    {
     "data": {
      "image/png": "[encoded data removed]",
      "text/plain": [
       "<Figure size 1080x360 with 1 Axes>"
      ]
     },
     "metadata": {
      "needs_background": "light"
     },
     "output_type": "display_data"
    }
   ],
   "source": [
    "for i in chosen_countries:\n",
    "    temp=df[df['LOCATION']==str(i)]\n",
    "    temp=temp[temp['TIME']>=2000]\n",
    "    plt.plot(temp['TIME'],temp['Value'].cumsum(),label=i)\n",
    "    plt.xticks([i for i in range(2000,2020)])\n",
    "    plt.legend()"
   ]
  },
  {
   "cell_type": "code",
   "execution_count": 75,
   "metadata": {
    "scrolled": true
   },
   "outputs": [
    {
     "data": {
      "text/plain": [
       "<Figure size 432x288 with 0 Axes>"
      ]
     },
     "metadata": {},
     "output_type": "display_data"
    },
    {
     "data": {
      "image/png": "[encoded data removed]",
      "text/plain": [
       "<Figure size 720x504 with 1 Axes>"
      ]
     },
     "metadata": {
      "needs_background": "light"
     },
     "output_type": "display_data"
    }
   ],
   "source": [
    "fig = plt.figure()\n",
    "temp_values=[]\n",
    "for i in range(2004,2020):\n",
    "    temp=df[df['TIME']==i]['Value']\n",
    "    temp_values.append(list(temp))\n",
    "fig = plt.figure(figsize =(10, 7)) \n",
    "ax = fig.add_axes([0, 0, 1, 1])\n",
    "bp = ax.boxplot(temp_values) \n",
    "ax.set_xticklabels([i for i in range(2004,2020)]) \n",
    "plt.show() "
   ]
  },
  {
   "cell_type": "code",
   "execution_count": 85,
   "metadata": {},
   "outputs": [],
   "source": [
    "import numpy as np"
   ]
  },
  {
   "cell_type": "code",
   "execution_count": 101,
   "metadata": {},
   "outputs": [
    {
     "name": "stdout",
     "output_type": "stream",
     "text": [
      "EU27_2020 0.9649242371536373\n",
      "IND 0.9985679954346888\n",
      "G-20 0.9983789838902852\n",
      "CHN 0.9977685103208124\n",
      "AUS 0.9969949458487859\n",
      "USA 0.9946167147900388\n",
      "RUS 0.8881475457403206\n",
      "CAN 0.9893579721722715\n"
     ]
    }
   ],
   "source": [
    "for i in chosen_countries:\n",
    "    temp=df[df['LOCATION']==str(i)]\n",
    "    print(i,np.corrcoef(temp['TIME'],temp['Value'].cumsum())[0,1])"
   ]
  },
  {
   "cell_type": "code",
   "execution_count": null,
   "metadata": {},
   "outputs": [],
   "source": []
  }
 ],
 "metadata": {
  "kernelspec": {
   "display_name": "Python 3",
   "language": "python",
   "name": "python3"
  },
  "language_info": {
   "codemirror_mode": {
    "name": "ipython",
    "version": 3
   },
   "file_extension": ".py",
   "mimetype": "text/x-python",
   "name": "python",
   "nbconvert_exporter": "python",
   "pygments_lexer": "ipython3",
   "version": "3.7.9"
  }
 },
 "nbformat": 4,
 "nbformat_minor": 4
}
